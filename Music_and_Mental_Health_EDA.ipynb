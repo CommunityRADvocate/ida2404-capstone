{
  "nbformat": 4,
  "nbformat_minor": 0,
  "metadata": {
    "colab": {
      "provenance": [],
      "authorship_tag": "ABX9TyMrr6NxIbpQZNvdLQM9g2Ca",
      "include_colab_link": true
    },
    "kernelspec": {
      "name": "python3",
      "display_name": "Python 3"
    },
    "language_info": {
      "name": "python"
    }
  },
  "cells": [
    {
      "cell_type": "markdown",
      "metadata": {
        "id": "view-in-github",
        "colab_type": "text"
      },
      "source": [
        "<a href=\"https://colab.research.google.com/github/CommunityRADvocate/ida2404-capstone/blob/main/Music_and_Mental_Health_EDA.ipynb\" target=\"_parent\"><img src=\"https://colab.research.google.com/assets/colab-badge.svg\" alt=\"Open In Colab\"/></a>"
      ]
    },
    {
      "cell_type": "code",
      "execution_count": null,
      "metadata": {
        "id": "G1R_OLROYP7R"
      },
      "outputs": [],
      "source": [
        "# import libraries to use for analysis\n",
        "import pandas as pd\n",
        "import numpy as np\n",
        "\n",
        "# extension for interactive tables -- limited to 20 columns\n",
        "# %load_ext google.colab.data_table\n",
        "\n",
        "# add link to dataset\n",
        "url = 'https://raw.githubusercontent.com/CommunityRADvocate/ida2404-capstone/main/mxmh_survey_results.csv'\n",
        "# read dataset and set it as a dataframe using pandas\n",
        "df = pd.read_csv(url)\n",
        "\n",
        "df"
      ]
    },
    {
      "cell_type": "code",
      "source": [],
      "metadata": {
        "id": "nxkoJsb_UEY2"
      },
      "execution_count": null,
      "outputs": []
    }
  ]
}